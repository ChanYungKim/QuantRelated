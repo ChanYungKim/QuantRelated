{
 "cells": [
  {
   "cell_type": "code",
   "execution_count": 11,
   "id": "86af8eea",
   "metadata": {},
   "outputs": [],
   "source": [
    "import math\n",
    "import requests # HTTP request\n",
    "#import xlswriter\n",
    "import numpy as np\n",
    "import pandas as pd"
   ]
  },
  {
   "cell_type": "code",
   "execution_count": 12,
   "id": "e2f0ddd6",
   "metadata": {},
   "outputs": [
    {
     "data": {
      "text/html": [
       "<div>\n",
       "<style scoped>\n",
       "    .dataframe tbody tr th:only-of-type {\n",
       "        vertical-align: middle;\n",
       "    }\n",
       "\n",
       "    .dataframe tbody tr th {\n",
       "        vertical-align: top;\n",
       "    }\n",
       "\n",
       "    .dataframe thead th {\n",
       "        text-align: right;\n",
       "    }\n",
       "</style>\n",
       "<table border=\"1\" class=\"dataframe\">\n",
       "  <thead>\n",
       "    <tr style=\"text-align: right;\">\n",
       "      <th></th>\n",
       "      <th>Ticker</th>\n",
       "    </tr>\n",
       "  </thead>\n",
       "  <tbody>\n",
       "    <tr>\n",
       "      <th>0</th>\n",
       "      <td>A</td>\n",
       "    </tr>\n",
       "    <tr>\n",
       "      <th>1</th>\n",
       "      <td>AAL</td>\n",
       "    </tr>\n",
       "    <tr>\n",
       "      <th>2</th>\n",
       "      <td>AAP</td>\n",
       "    </tr>\n",
       "    <tr>\n",
       "      <th>3</th>\n",
       "      <td>AAPL</td>\n",
       "    </tr>\n",
       "    <tr>\n",
       "      <th>4</th>\n",
       "      <td>ABBV</td>\n",
       "    </tr>\n",
       "    <tr>\n",
       "      <th>...</th>\n",
       "      <td>...</td>\n",
       "    </tr>\n",
       "    <tr>\n",
       "      <th>500</th>\n",
       "      <td>YUM</td>\n",
       "    </tr>\n",
       "    <tr>\n",
       "      <th>501</th>\n",
       "      <td>ZBH</td>\n",
       "    </tr>\n",
       "    <tr>\n",
       "      <th>502</th>\n",
       "      <td>ZBRA</td>\n",
       "    </tr>\n",
       "    <tr>\n",
       "      <th>503</th>\n",
       "      <td>ZION</td>\n",
       "    </tr>\n",
       "    <tr>\n",
       "      <th>504</th>\n",
       "      <td>ZTS</td>\n",
       "    </tr>\n",
       "  </tbody>\n",
       "</table>\n",
       "<p>505 rows × 1 columns</p>\n",
       "</div>"
      ],
      "text/plain": [
       "    Ticker\n",
       "0        A\n",
       "1      AAL\n",
       "2      AAP\n",
       "3     AAPL\n",
       "4     ABBV\n",
       "..     ...\n",
       "500    YUM\n",
       "501    ZBH\n",
       "502   ZBRA\n",
       "503   ZION\n",
       "504    ZTS\n",
       "\n",
       "[505 rows x 1 columns]"
      ]
     },
     "execution_count": 12,
     "metadata": {},
     "output_type": "execute_result"
    }
   ],
   "source": [
    "stocks = pd.read_csv ('sp_500_stocks.csv')\n",
    "stocks"
   ]
  },
  {
   "cell_type": "code",
   "execution_count": 13,
   "id": "95a2fe62",
   "metadata": {},
   "outputs": [
    {
     "name": "stdout",
     "output_type": "stream",
     "text": [
      "Tpk_059b97af715d417d9f49f50b51b1c448\n"
     ]
    }
   ],
   "source": [
    "IEX_CLOUD_API_TOKEN = 'Tpk_059b97af715d417d9f49f50b51b1c448'\n",
    "print (IEX_CLOUD_API_TOKEN)"
   ]
  },
  {
   "cell_type": "code",
   "execution_count": 14,
   "id": "c16b643b",
   "metadata": {},
   "outputs": [
    {
     "name": "stdout",
     "output_type": "stream",
     "text": [
      "<class 'dict'>\n",
      "{'avgTotalVolume': 83453054, 'calculationPrice': 'tops', 'change': -0.18, 'changePercent': -0.00146, 'close': 0, 'closeSource': 'flfoacii', 'closeTime': None, 'companyName': 'Apple Inc', 'currency': 'USD', 'delayedPrice': None, 'delayedPriceTime': None, 'extendedChange': None, 'extendedChangePercent': None, 'extendedPrice': None, 'extendedPriceTime': None, 'high': 0, 'highSource': 'tlmiEepXa r Ie crei', 'highTime': 1754905722240, 'iexAskPrice': 132.65, 'iexAskSize': 201, 'iexBidPrice': 129.79, 'iexBidSize': 101, 'iexClose': 133.26, 'iexCloseTime': 1716032386768, 'iexLastUpdated': 1709183200048, 'iexMarketPercent': None, 'iexOpen': 130.81, 'iexOpenTime': 1699567944034, 'iexRealtimePrice': 134.58, 'iexRealtimeSize': 310, 'iexVolume': 159346, 'lastTradeTime': 1708642374758, 'latestPrice': 133.86, 'latestSource': 'IEX real time price', 'latestTime': '9:36:16 AM', 'latestUpdate': 1748442619243, 'latestVolume': None, 'low': 0, 'lowSource': 'ai IXmrlieecE pet r', 'lowTime': 1739743179032, 'marketCap': 2104656603113, 'oddLotDelayedPrice': None, 'oddLotDelayedPriceTime': None, 'open': 0, 'openTime': None, 'openSource': 'faoflcii', 'peRatio': 21.83, 'previousClose': 134.93, 'previousVolume': 79689465, 'primaryExchange': 'AANQDS', 'symbol': 'AAPL', 'volume': None, 'week52High': 186.15, 'week52Low': 127.78, 'ytdChange': -0.00145, 'isUSMarketOpen': True}\n"
     ]
    }
   ],
   "source": [
    "symbol = 'AAPL'\n",
    "api_url = f\"https://sandbox.iexapis.com/stable/stock/{symbol}/quote/?token={IEX_CLOUD_API_TOKEN}\"\n",
    "data = requests.get (api_url).json()\n",
    "print (type(data)) # <-- Response Object\n",
    "print (data) # <Response [200]> / <Response [404]>"
   ]
  },
  {
   "cell_type": "code",
   "execution_count": 16,
   "id": "189b738a",
   "metadata": {},
   "outputs": [
    {
     "name": "stdout",
     "output_type": "stream",
     "text": [
      "83453054\n"
     ]
    }
   ],
   "source": [
    "print (data['avgTotalVolume'])"
   ]
  },
  {
   "cell_type": "code",
   "execution_count": null,
   "id": "ab4bc349",
   "metadata": {},
   "outputs": [],
   "source": []
  },
  {
   "cell_type": "code",
   "execution_count": null,
   "id": "0a5cfef9",
   "metadata": {},
   "outputs": [],
   "source": []
  }
 ],
 "metadata": {
  "kernelspec": {
   "display_name": "Python 3 (ipykernel)",
   "language": "python",
   "name": "python3"
  },
  "language_info": {
   "codemirror_mode": {
    "name": "ipython",
    "version": 3
   },
   "file_extension": ".py",
   "mimetype": "text/x-python",
   "name": "python",
   "nbconvert_exporter": "python",
   "pygments_lexer": "ipython3",
   "version": "3.9.13"
  }
 },
 "nbformat": 4,
 "nbformat_minor": 5
}
