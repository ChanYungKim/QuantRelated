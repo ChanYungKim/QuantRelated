{
 "cells": [
  {
   "cell_type": "markdown",
   "id": "5990e690",
   "metadata": {},
   "source": [
    "Scrape S&P Ticker Symbol & Info by Web Scrapping (from Google WIKI)"
   ]
  },
  {
   "cell_type": "code",
   "execution_count": null,
   "id": "4f5d1f66",
   "metadata": {},
   "outputs": [],
   "source": [
    "sp500_companies_url = \"https://en.wikipedia.org/wiki/List_of_S%26P_500_companies\"\n",
    "sp500_ticker_symbol_table = pd.read_html (sp500_companies_url)\n",
    "\n",
    "# Since WIKI has multiple tables, select the relevant table\n",
    "# [in this case the first table, index = 0]\n",
    "display (sp500_ticker_symbol_table [0])\n",
    "display (type (sp500_ticker_symbol_table [0]))"
   ]
  }
 ],
 "metadata": {
  "kernelspec": {
   "display_name": "Python 3 (ipykernel)",
   "language": "python",
   "name": "python3"
  },
  "language_info": {
   "codemirror_mode": {
    "name": "ipython",
    "version": 3
   },
   "file_extension": ".py",
   "mimetype": "text/x-python",
   "name": "python",
   "nbconvert_exporter": "python",
   "pygments_lexer": "ipython3",
   "version": "3.9.13"
  }
 },
 "nbformat": 4,
 "nbformat_minor": 5
}
